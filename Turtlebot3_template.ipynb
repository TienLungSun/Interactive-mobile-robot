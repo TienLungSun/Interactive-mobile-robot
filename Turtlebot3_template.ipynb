{
 "cells": [
  {
   "cell_type": "markdown",
   "id": "b7daca12",
   "metadata": {},
   "source": [
    "### Simple program to demonstrate \n",
    "1) thread for continuous sensor data reading (Lidar, web cam)<br>\n",
    "2) Turtle bot movement through ROS control  "
   ]
  },
  {
   "cell_type": "markdown",
   "id": "b2bfd9bc",
   "metadata": {},
   "source": [
    "Reference: Tom's GitHub  https://github.com/TomasMendozaHN/Turtlebot_PPO"
   ]
  },
  {
   "cell_type": "markdown",
   "id": "041934e4",
   "metadata": {},
   "source": [
    "import PyTorch"
   ]
  },
  {
   "cell_type": "code",
   "execution_count": null,
   "id": "5a2d076d",
   "metadata": {},
   "outputs": [],
   "source": []
  },
  {
   "cell_type": "markdown",
   "id": "c078ae60",
   "metadata": {},
   "source": [
    "import ROS"
   ]
  },
  {
   "cell_type": "markdown",
   "id": "b94d76cc",
   "metadata": {},
   "source": []
  },
  {
   "cell_type": "markdown",
   "id": "65050780",
   "metadata": {},
   "source": [
    "import camera, Lidar package"
   ]
  },
  {
   "cell_type": "code",
   "execution_count": null,
   "id": "7c0f7309",
   "metadata": {},
   "outputs": [],
   "source": []
  },
  {
   "cell_type": "markdown",
   "id": "01046e6a",
   "metadata": {},
   "source": [
    "Lidar reading thread"
   ]
  },
  {
   "cell_type": "code",
   "execution_count": null,
   "id": "c55969e0",
   "metadata": {},
   "outputs": [],
   "source": []
  },
  {
   "cell_type": "markdown",
   "id": "97584c99",
   "metadata": {},
   "source": [
    "Web cam reading thread"
   ]
  },
  {
   "cell_type": "code",
   "execution_count": null,
   "id": "0488ee47",
   "metadata": {},
   "outputs": [],
   "source": []
  },
  {
   "cell_type": "markdown",
   "id": "fd2e8bed",
   "metadata": {},
   "source": [
    "ROS thread?"
   ]
  },
  {
   "cell_type": "code",
   "execution_count": null,
   "id": "97338fc6",
   "metadata": {},
   "outputs": [],
   "source": []
  },
  {
   "cell_type": "markdown",
   "id": "b06a87ff",
   "metadata": {},
   "source": [
    "Main program"
   ]
  },
  {
   "cell_type": "code",
   "execution_count": null,
   "id": "ee44ee79",
   "metadata": {},
   "outputs": [],
   "source": [
    "move = 1\n",
    "while (True):\n",
    "    # read lidar data and print\n",
    "    \n",
    "    # read Webcam image and display\n",
    "    display.clear_output(wait=True)\n",
    "    frame = vid.get_data(frame_count)  # Capture frame-by-frame\n",
    "    plt.imshow(frame)\n",
    "    plt.pause(0.1)\n",
    "    \n",
    "    if(move == 1):\n",
    "        #call ROS to move forward 1m\n",
    "        move=2\n",
    "    else if(move == 2):\n",
    "        #call ROS to move backward 1m\n",
    "        move=3 \n",
    "    else if(move == 3):\n",
    "        #call ROS to turn Right 90\n",
    "        move=4\n",
    "    else if(move == 4):\n",
    "        #call ROS to turn Left 90\n",
    "        move=1"
   ]
  },
  {
   "cell_type": "code",
   "execution_count": null,
   "id": "219ff34d",
   "metadata": {},
   "outputs": [],
   "source": []
  }
 ],
 "metadata": {
  "kernelspec": {
   "display_name": "Python 3",
   "language": "python",
   "name": "python3"
  },
  "language_info": {
   "codemirror_mode": {
    "name": "ipython",
    "version": 3
   },
   "file_extension": ".py",
   "mimetype": "text/x-python",
   "name": "python",
   "nbconvert_exporter": "python",
   "pygments_lexer": "ipython3",
   "version": "3.8.8"
  }
 },
 "nbformat": 4,
 "nbformat_minor": 5
}
